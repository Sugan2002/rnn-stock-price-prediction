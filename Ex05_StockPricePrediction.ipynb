{
  "nbformat": 4,
  "nbformat_minor": 0,
  "metadata": {
    "colab": {
      "provenance": [],
      "collapsed_sections": [],
      "include_colab_link": true
    },
    "kernelspec": {
      "name": "python3",
      "display_name": "Python 3"
    },
    "language_info": {
      "name": "python"
    },
    "accelerator": "GPU"
  },
  "cells": [
    {
      "cell_type": "markdown",
      "metadata": {
        "id": "view-in-github",
        "colab_type": "text"
      },
      "source": [
        "<a href=\"https://colab.research.google.com/github/Sugan2002/rnn-stock-price-prediction/blob/main/Ex05_StockPricePrediction.ipynb\" target=\"_parent\"><img src=\"https://colab.research.google.com/assets/colab-badge.svg\" alt=\"Open In Colab\"/></a>"
      ]
    },
    {
      "cell_type": "code",
      "execution_count": 3,
      "metadata": {
        "id": "rWulUnXvE0XQ"
      },
      "outputs": [],
      "source": [
        "import numpy as np\n",
        "import matplotlib.pyplot as plt\n",
        "import pandas as pd\n",
        "from sklearn.preprocessing import MinMaxScaler\n",
        "from keras import layers\n",
        "from keras.models import Sequential"
      ]
    },
    {
      "cell_type": "code",
      "source": [
        "dataset_train = pd.read_csv('trainset.csv')\n"
      ],
      "metadata": {
        "id": "G9yM-i2fGSeD"
      },
      "execution_count": 4,
      "outputs": []
    },
    {
      "cell_type": "code",
      "source": [
        "dataset_train.columns"
      ],
      "metadata": {
        "id": "ZnNFxG1yHJXj",
        "colab": {
          "base_uri": "https://localhost:8080/"
        },
        "outputId": "24177479-735b-4112-b5be-103a1f809563"
      },
      "execution_count": 8,
      "outputs": [
        {
          "output_type": "execute_result",
          "data": {
            "text/plain": [
              "Index(['Date', 'Open', 'High', 'Low', 'Close', 'Adj Close', 'Volume'], dtype='object')"
            ]
          },
          "metadata": {},
          "execution_count": 8
        }
      ]
    },
    {
      "cell_type": "code",
      "source": [
        "dataset_train.head()"
      ],
      "metadata": {
        "id": "ioHdtmFxHSQ5",
        "colab": {
          "base_uri": "https://localhost:8080/",
          "height": 206
        },
        "outputId": "2848a100-bda3-481b-f2dc-c5955469961c"
      },
      "execution_count": 9,
      "outputs": [
        {
          "output_type": "execute_result",
          "data": {
            "text/plain": [
              "         Date        Open        High         Low       Close   Adj Close  \\\n",
              "0  2013-01-02  357.385559  361.151062  355.959839  359.288177  359.288177   \n",
              "1  2013-01-03  360.122742  363.600128  358.031342  359.496826  359.496826   \n",
              "2  2013-01-04  362.313507  368.339294  361.488861  366.600616  366.600616   \n",
              "3  2013-01-07  365.348755  367.301056  362.929504  365.001007  365.001007   \n",
              "4  2013-01-08  365.393463  365.771027  359.874359  364.280701  364.280701   \n",
              "\n",
              "    Volume  \n",
              "0  5115500  \n",
              "1  4666500  \n",
              "2  5562800  \n",
              "3  3332900  \n",
              "4  3373900  "
            ],
            "text/html": [
              "\n",
              "  <div id=\"df-25ee50e3-575b-4bed-a297-1825b8ff43e8\">\n",
              "    <div class=\"colab-df-container\">\n",
              "      <div>\n",
              "<style scoped>\n",
              "    .dataframe tbody tr th:only-of-type {\n",
              "        vertical-align: middle;\n",
              "    }\n",
              "\n",
              "    .dataframe tbody tr th {\n",
              "        vertical-align: top;\n",
              "    }\n",
              "\n",
              "    .dataframe thead th {\n",
              "        text-align: right;\n",
              "    }\n",
              "</style>\n",
              "<table border=\"1\" class=\"dataframe\">\n",
              "  <thead>\n",
              "    <tr style=\"text-align: right;\">\n",
              "      <th></th>\n",
              "      <th>Date</th>\n",
              "      <th>Open</th>\n",
              "      <th>High</th>\n",
              "      <th>Low</th>\n",
              "      <th>Close</th>\n",
              "      <th>Adj Close</th>\n",
              "      <th>Volume</th>\n",
              "    </tr>\n",
              "  </thead>\n",
              "  <tbody>\n",
              "    <tr>\n",
              "      <th>0</th>\n",
              "      <td>2013-01-02</td>\n",
              "      <td>357.385559</td>\n",
              "      <td>361.151062</td>\n",
              "      <td>355.959839</td>\n",
              "      <td>359.288177</td>\n",
              "      <td>359.288177</td>\n",
              "      <td>5115500</td>\n",
              "    </tr>\n",
              "    <tr>\n",
              "      <th>1</th>\n",
              "      <td>2013-01-03</td>\n",
              "      <td>360.122742</td>\n",
              "      <td>363.600128</td>\n",
              "      <td>358.031342</td>\n",
              "      <td>359.496826</td>\n",
              "      <td>359.496826</td>\n",
              "      <td>4666500</td>\n",
              "    </tr>\n",
              "    <tr>\n",
              "      <th>2</th>\n",
              "      <td>2013-01-04</td>\n",
              "      <td>362.313507</td>\n",
              "      <td>368.339294</td>\n",
              "      <td>361.488861</td>\n",
              "      <td>366.600616</td>\n",
              "      <td>366.600616</td>\n",
              "      <td>5562800</td>\n",
              "    </tr>\n",
              "    <tr>\n",
              "      <th>3</th>\n",
              "      <td>2013-01-07</td>\n",
              "      <td>365.348755</td>\n",
              "      <td>367.301056</td>\n",
              "      <td>362.929504</td>\n",
              "      <td>365.001007</td>\n",
              "      <td>365.001007</td>\n",
              "      <td>3332900</td>\n",
              "    </tr>\n",
              "    <tr>\n",
              "      <th>4</th>\n",
              "      <td>2013-01-08</td>\n",
              "      <td>365.393463</td>\n",
              "      <td>365.771027</td>\n",
              "      <td>359.874359</td>\n",
              "      <td>364.280701</td>\n",
              "      <td>364.280701</td>\n",
              "      <td>3373900</td>\n",
              "    </tr>\n",
              "  </tbody>\n",
              "</table>\n",
              "</div>\n",
              "      <button class=\"colab-df-convert\" onclick=\"convertToInteractive('df-25ee50e3-575b-4bed-a297-1825b8ff43e8')\"\n",
              "              title=\"Convert this dataframe to an interactive table.\"\n",
              "              style=\"display:none;\">\n",
              "        \n",
              "  <svg xmlns=\"http://www.w3.org/2000/svg\" height=\"24px\"viewBox=\"0 0 24 24\"\n",
              "       width=\"24px\">\n",
              "    <path d=\"M0 0h24v24H0V0z\" fill=\"none\"/>\n",
              "    <path d=\"M18.56 5.44l.94 2.06.94-2.06 2.06-.94-2.06-.94-.94-2.06-.94 2.06-2.06.94zm-11 1L8.5 8.5l.94-2.06 2.06-.94-2.06-.94L8.5 2.5l-.94 2.06-2.06.94zm10 10l.94 2.06.94-2.06 2.06-.94-2.06-.94-.94-2.06-.94 2.06-2.06.94z\"/><path d=\"M17.41 7.96l-1.37-1.37c-.4-.4-.92-.59-1.43-.59-.52 0-1.04.2-1.43.59L10.3 9.45l-7.72 7.72c-.78.78-.78 2.05 0 2.83L4 21.41c.39.39.9.59 1.41.59.51 0 1.02-.2 1.41-.59l7.78-7.78 2.81-2.81c.8-.78.8-2.07 0-2.86zM5.41 20L4 18.59l7.72-7.72 1.47 1.35L5.41 20z\"/>\n",
              "  </svg>\n",
              "      </button>\n",
              "      \n",
              "  <style>\n",
              "    .colab-df-container {\n",
              "      display:flex;\n",
              "      flex-wrap:wrap;\n",
              "      gap: 12px;\n",
              "    }\n",
              "\n",
              "    .colab-df-convert {\n",
              "      background-color: #E8F0FE;\n",
              "      border: none;\n",
              "      border-radius: 50%;\n",
              "      cursor: pointer;\n",
              "      display: none;\n",
              "      fill: #1967D2;\n",
              "      height: 32px;\n",
              "      padding: 0 0 0 0;\n",
              "      width: 32px;\n",
              "    }\n",
              "\n",
              "    .colab-df-convert:hover {\n",
              "      background-color: #E2EBFA;\n",
              "      box-shadow: 0px 1px 2px rgba(60, 64, 67, 0.3), 0px 1px 3px 1px rgba(60, 64, 67, 0.15);\n",
              "      fill: #174EA6;\n",
              "    }\n",
              "\n",
              "    [theme=dark] .colab-df-convert {\n",
              "      background-color: #3B4455;\n",
              "      fill: #D2E3FC;\n",
              "    }\n",
              "\n",
              "    [theme=dark] .colab-df-convert:hover {\n",
              "      background-color: #434B5C;\n",
              "      box-shadow: 0px 1px 3px 1px rgba(0, 0, 0, 0.15);\n",
              "      filter: drop-shadow(0px 1px 2px rgba(0, 0, 0, 0.3));\n",
              "      fill: #FFFFFF;\n",
              "    }\n",
              "  </style>\n",
              "\n",
              "      <script>\n",
              "        const buttonEl =\n",
              "          document.querySelector('#df-25ee50e3-575b-4bed-a297-1825b8ff43e8 button.colab-df-convert');\n",
              "        buttonEl.style.display =\n",
              "          google.colab.kernel.accessAllowed ? 'block' : 'none';\n",
              "\n",
              "        async function convertToInteractive(key) {\n",
              "          const element = document.querySelector('#df-25ee50e3-575b-4bed-a297-1825b8ff43e8');\n",
              "          const dataTable =\n",
              "            await google.colab.kernel.invokeFunction('convertToInteractive',\n",
              "                                                     [key], {});\n",
              "          if (!dataTable) return;\n",
              "\n",
              "          const docLinkHtml = 'Like what you see? Visit the ' +\n",
              "            '<a target=\"_blank\" href=https://colab.research.google.com/notebooks/data_table.ipynb>data table notebook</a>'\n",
              "            + ' to learn more about interactive tables.';\n",
              "          element.innerHTML = '';\n",
              "          dataTable['output_type'] = 'display_data';\n",
              "          await google.colab.output.renderOutput(dataTable, element);\n",
              "          const docLink = document.createElement('div');\n",
              "          docLink.innerHTML = docLinkHtml;\n",
              "          element.appendChild(docLink);\n",
              "        }\n",
              "      </script>\n",
              "    </div>\n",
              "  </div>\n",
              "  "
            ]
          },
          "metadata": {},
          "execution_count": 9
        }
      ]
    },
    {
      "cell_type": "code",
      "source": [
        "dataset_train.tail()"
      ],
      "metadata": {
        "colab": {
          "base_uri": "https://localhost:8080/",
          "height": 206
        },
        "id": "5jWOd1m0GKHB",
        "outputId": "d2c6f1af-63eb-489b-cde6-8e95396b6386"
      },
      "execution_count": 19,
      "outputs": [
        {
          "output_type": "execute_result",
          "data": {
            "text/plain": [
              "            Date         Open         High          Low        Close  \\\n",
              "1254  2017-12-22  1061.109985  1064.199951  1059.439941  1060.119995   \n",
              "1255  2017-12-26  1058.069946  1060.119995  1050.199951  1056.739990   \n",
              "1256  2017-12-27  1057.390015  1058.369995  1048.050049  1049.369995   \n",
              "1257  2017-12-28  1051.599976  1054.750000  1044.770020  1048.140015   \n",
              "1258  2017-12-29  1046.719971  1049.699951  1044.900024  1046.400024   \n",
              "\n",
              "        Adj Close   Volume  \n",
              "1254  1060.119995   755100  \n",
              "1255  1056.739990   760600  \n",
              "1256  1049.369995  1271900  \n",
              "1257  1048.140015   837100  \n",
              "1258  1046.400024   887500  "
            ],
            "text/html": [
              "\n",
              "  <div id=\"df-c2674760-8cb6-485d-8c64-169ed2c5f6d3\">\n",
              "    <div class=\"colab-df-container\">\n",
              "      <div>\n",
              "<style scoped>\n",
              "    .dataframe tbody tr th:only-of-type {\n",
              "        vertical-align: middle;\n",
              "    }\n",
              "\n",
              "    .dataframe tbody tr th {\n",
              "        vertical-align: top;\n",
              "    }\n",
              "\n",
              "    .dataframe thead th {\n",
              "        text-align: right;\n",
              "    }\n",
              "</style>\n",
              "<table border=\"1\" class=\"dataframe\">\n",
              "  <thead>\n",
              "    <tr style=\"text-align: right;\">\n",
              "      <th></th>\n",
              "      <th>Date</th>\n",
              "      <th>Open</th>\n",
              "      <th>High</th>\n",
              "      <th>Low</th>\n",
              "      <th>Close</th>\n",
              "      <th>Adj Close</th>\n",
              "      <th>Volume</th>\n",
              "    </tr>\n",
              "  </thead>\n",
              "  <tbody>\n",
              "    <tr>\n",
              "      <th>1254</th>\n",
              "      <td>2017-12-22</td>\n",
              "      <td>1061.109985</td>\n",
              "      <td>1064.199951</td>\n",
              "      <td>1059.439941</td>\n",
              "      <td>1060.119995</td>\n",
              "      <td>1060.119995</td>\n",
              "      <td>755100</td>\n",
              "    </tr>\n",
              "    <tr>\n",
              "      <th>1255</th>\n",
              "      <td>2017-12-26</td>\n",
              "      <td>1058.069946</td>\n",
              "      <td>1060.119995</td>\n",
              "      <td>1050.199951</td>\n",
              "      <td>1056.739990</td>\n",
              "      <td>1056.739990</td>\n",
              "      <td>760600</td>\n",
              "    </tr>\n",
              "    <tr>\n",
              "      <th>1256</th>\n",
              "      <td>2017-12-27</td>\n",
              "      <td>1057.390015</td>\n",
              "      <td>1058.369995</td>\n",
              "      <td>1048.050049</td>\n",
              "      <td>1049.369995</td>\n",
              "      <td>1049.369995</td>\n",
              "      <td>1271900</td>\n",
              "    </tr>\n",
              "    <tr>\n",
              "      <th>1257</th>\n",
              "      <td>2017-12-28</td>\n",
              "      <td>1051.599976</td>\n",
              "      <td>1054.750000</td>\n",
              "      <td>1044.770020</td>\n",
              "      <td>1048.140015</td>\n",
              "      <td>1048.140015</td>\n",
              "      <td>837100</td>\n",
              "    </tr>\n",
              "    <tr>\n",
              "      <th>1258</th>\n",
              "      <td>2017-12-29</td>\n",
              "      <td>1046.719971</td>\n",
              "      <td>1049.699951</td>\n",
              "      <td>1044.900024</td>\n",
              "      <td>1046.400024</td>\n",
              "      <td>1046.400024</td>\n",
              "      <td>887500</td>\n",
              "    </tr>\n",
              "  </tbody>\n",
              "</table>\n",
              "</div>\n",
              "      <button class=\"colab-df-convert\" onclick=\"convertToInteractive('df-c2674760-8cb6-485d-8c64-169ed2c5f6d3')\"\n",
              "              title=\"Convert this dataframe to an interactive table.\"\n",
              "              style=\"display:none;\">\n",
              "        \n",
              "  <svg xmlns=\"http://www.w3.org/2000/svg\" height=\"24px\"viewBox=\"0 0 24 24\"\n",
              "       width=\"24px\">\n",
              "    <path d=\"M0 0h24v24H0V0z\" fill=\"none\"/>\n",
              "    <path d=\"M18.56 5.44l.94 2.06.94-2.06 2.06-.94-2.06-.94-.94-2.06-.94 2.06-2.06.94zm-11 1L8.5 8.5l.94-2.06 2.06-.94-2.06-.94L8.5 2.5l-.94 2.06-2.06.94zm10 10l.94 2.06.94-2.06 2.06-.94-2.06-.94-.94-2.06-.94 2.06-2.06.94z\"/><path d=\"M17.41 7.96l-1.37-1.37c-.4-.4-.92-.59-1.43-.59-.52 0-1.04.2-1.43.59L10.3 9.45l-7.72 7.72c-.78.78-.78 2.05 0 2.83L4 21.41c.39.39.9.59 1.41.59.51 0 1.02-.2 1.41-.59l7.78-7.78 2.81-2.81c.8-.78.8-2.07 0-2.86zM5.41 20L4 18.59l7.72-7.72 1.47 1.35L5.41 20z\"/>\n",
              "  </svg>\n",
              "      </button>\n",
              "      \n",
              "  <style>\n",
              "    .colab-df-container {\n",
              "      display:flex;\n",
              "      flex-wrap:wrap;\n",
              "      gap: 12px;\n",
              "    }\n",
              "\n",
              "    .colab-df-convert {\n",
              "      background-color: #E8F0FE;\n",
              "      border: none;\n",
              "      border-radius: 50%;\n",
              "      cursor: pointer;\n",
              "      display: none;\n",
              "      fill: #1967D2;\n",
              "      height: 32px;\n",
              "      padding: 0 0 0 0;\n",
              "      width: 32px;\n",
              "    }\n",
              "\n",
              "    .colab-df-convert:hover {\n",
              "      background-color: #E2EBFA;\n",
              "      box-shadow: 0px 1px 2px rgba(60, 64, 67, 0.3), 0px 1px 3px 1px rgba(60, 64, 67, 0.15);\n",
              "      fill: #174EA6;\n",
              "    }\n",
              "\n",
              "    [theme=dark] .colab-df-convert {\n",
              "      background-color: #3B4455;\n",
              "      fill: #D2E3FC;\n",
              "    }\n",
              "\n",
              "    [theme=dark] .colab-df-convert:hover {\n",
              "      background-color: #434B5C;\n",
              "      box-shadow: 0px 1px 3px 1px rgba(0, 0, 0, 0.15);\n",
              "      filter: drop-shadow(0px 1px 2px rgba(0, 0, 0, 0.3));\n",
              "      fill: #FFFFFF;\n",
              "    }\n",
              "  </style>\n",
              "\n",
              "      <script>\n",
              "        const buttonEl =\n",
              "          document.querySelector('#df-c2674760-8cb6-485d-8c64-169ed2c5f6d3 button.colab-df-convert');\n",
              "        buttonEl.style.display =\n",
              "          google.colab.kernel.accessAllowed ? 'block' : 'none';\n",
              "\n",
              "        async function convertToInteractive(key) {\n",
              "          const element = document.querySelector('#df-c2674760-8cb6-485d-8c64-169ed2c5f6d3');\n",
              "          const dataTable =\n",
              "            await google.colab.kernel.invokeFunction('convertToInteractive',\n",
              "                                                     [key], {});\n",
              "          if (!dataTable) return;\n",
              "\n",
              "          const docLinkHtml = 'Like what you see? Visit the ' +\n",
              "            '<a target=\"_blank\" href=https://colab.research.google.com/notebooks/data_table.ipynb>data table notebook</a>'\n",
              "            + ' to learn more about interactive tables.';\n",
              "          element.innerHTML = '';\n",
              "          dataTable['output_type'] = 'display_data';\n",
              "          await google.colab.output.renderOutput(dataTable, element);\n",
              "          const docLink = document.createElement('div');\n",
              "          docLink.innerHTML = docLinkHtml;\n",
              "          element.appendChild(docLink);\n",
              "        }\n",
              "      </script>\n",
              "    </div>\n",
              "  </div>\n",
              "  "
            ]
          },
          "metadata": {},
          "execution_count": 19
        }
      ]
    },
    {
      "cell_type": "code",
      "source": [
        "train_set = dataset_train.iloc[:,1:2].values"
      ],
      "metadata": {
        "id": "od_Jh97fHxsp"
      },
      "execution_count": 10,
      "outputs": []
    },
    {
      "cell_type": "code",
      "source": [
        "type(train_set)"
      ],
      "metadata": {
        "id": "ipOhkvP0H8Ki",
        "colab": {
          "base_uri": "https://localhost:8080/"
        },
        "outputId": "8e29f519-6de9-49a3-e547-86b9477dbf2d"
      },
      "execution_count": 11,
      "outputs": [
        {
          "output_type": "execute_result",
          "data": {
            "text/plain": [
              "numpy.ndarray"
            ]
          },
          "metadata": {},
          "execution_count": 11
        }
      ]
    },
    {
      "cell_type": "code",
      "source": [
        "train_set.shape"
      ],
      "metadata": {
        "id": "10qpaYabITYB",
        "colab": {
          "base_uri": "https://localhost:8080/"
        },
        "outputId": "5988366a-0059-4adb-9052-fe252fbd630e"
      },
      "execution_count": 12,
      "outputs": [
        {
          "output_type": "execute_result",
          "data": {
            "text/plain": [
              "(1259, 1)"
            ]
          },
          "metadata": {},
          "execution_count": 12
        }
      ]
    },
    {
      "cell_type": "code",
      "source": [
        "plt.plot(np.arange(0,1259),train_set)"
      ],
      "metadata": {
        "colab": {
          "base_uri": "https://localhost:8080/",
          "height": 284
        },
        "id": "H3McIC5xHDQ5",
        "outputId": "e2ab122e-9028-4183-ff95-55a66cb51f97"
      },
      "execution_count": 20,
      "outputs": [
        {
          "output_type": "execute_result",
          "data": {
            "text/plain": [
              "[<matplotlib.lines.Line2D at 0x7f63f0533810>]"
            ]
          },
          "metadata": {},
          "execution_count": 20
        },
        {
          "output_type": "display_data",
          "data": {
            "text/plain": [
              "<Figure size 432x288 with 1 Axes>"
            ],
            "image/png": "[encoded data removed]"
          },
          "metadata": {
            "needs_background": "light"
          }
        }
      ]
    },
    {
      "cell_type": "code",
      "source": [
        "sc = MinMaxScaler(feature_range=(0,1))\n",
        "training_set_scaled = sc.fit_transform(train_set)"
      ],
      "metadata": {
        "id": "Wc5QNHisIMcp"
      },
      "execution_count": 13,
      "outputs": []
    },
    {
      "cell_type": "code",
      "source": [
        "training_set_scaled.shape"
      ],
      "metadata": {
        "id": "VYMccXBzjMzz",
        "colab": {
          "base_uri": "https://localhost:8080/"
        },
        "outputId": "0719867b-8d32-465e-8e60-0b0fc1e1748f"
      },
      "execution_count": 15,
      "outputs": [
        {
          "output_type": "execute_result",
          "data": {
            "text/plain": [
              "(1259, 1)"
            ]
          },
          "metadata": {},
          "execution_count": 15
        }
      ]
    },
    {
      "cell_type": "code",
      "source": [
        "X_train_array = []\n",
        "y_train_array = []\n",
        "for i in range(60, 1259):\n",
        "  X_train_array.append(training_set_scaled[i-60:i,0])\n",
        "  y_train_array.append(training_set_scaled[i,0])\n",
        "X_train, y_train = np.array(X_train_array), np.array(y_train_array)\n",
        "X_train1 = X_train.reshape((X_train.shape[0], X_train.shape[1],1))\n"
      ],
      "metadata": {
        "id": "qO7NJjsCI1qq"
      },
      "execution_count": 16,
      "outputs": []
    },
    {
      "cell_type": "code",
      "source": [
        "X_train.shape"
      ],
      "metadata": {
        "id": "0rRZyii1IWmq",
        "colab": {
          "base_uri": "https://localhost:8080/"
        },
        "outputId": "008b1c2d-b072-4385-bef1-b356fc098bab"
      },
      "execution_count": 17,
      "outputs": [
        {
          "output_type": "execute_result",
          "data": {
            "text/plain": [
              "(1199, 60)"
            ]
          },
          "metadata": {},
          "execution_count": 17
        }
      ]
    },
    {
      "cell_type": "code",
      "source": [
        "length = 60\n",
        "n_features = 1"
      ],
      "metadata": {
        "id": "BknoiyHTN_tb"
      },
      "execution_count": 18,
      "outputs": []
    },
    {
      "cell_type": "code",
      "source": [
        "model = Sequential()\n",
        "## Write your code here\n",
        "model.add(layers.SimpleRNN(50,input_shape=(length, n_features)))\n",
        "model.add(layers.Dense(1))\n",
        "model.compile(optimizer='adam', loss='mse')"
      ],
      "metadata": {
        "id": "tb1wq3smJuDF"
      },
      "execution_count": 22,
      "outputs": []
    },
    {
      "cell_type": "code",
      "source": [
        "model.summary()"
      ],
      "metadata": {
        "id": "RmitWR-Qk500",
        "colab": {
          "base_uri": "https://localhost:8080/"
        },
        "outputId": "20829823-8cae-48cb-b853-40534155da7c"
      },
      "execution_count": 23,
      "outputs": [
        {
          "output_type": "stream",
          "name": "stdout",
          "text": [
            "Model: \"sequential_1\"\n",
            "_________________________________________________________________\n",
            " Layer (type)                Output Shape              Param #   \n",
            "=================================================================\n",
            " simple_rnn_1 (SimpleRNN)    (None, 50)                2600      \n",
            "                                                                 \n",
            " dense_1 (Dense)             (None, 1)                 51        \n",
            "                                                                 \n",
            "=================================================================\n",
            "Total params: 2,651\n",
            "Trainable params: 2,651\n",
            "Non-trainable params: 0\n",
            "_________________________________________________________________\n"
          ]
        }
      ]
    },
    {
      "cell_type": "code",
      "source": [
        "model.fit(X_train1,y_train,epochs=100, batch_size=32)"
      ],
      "metadata": {
        "id": "fXZtPWTgO5T7",
        "colab": {
          "base_uri": "https://localhost:8080/"
        },
        "outputId": "75ff5535-0f73-41f8-fd66-37dbdaed064a"
      },
      "execution_count": 24,
      "outputs": [
        {
          "output_type": "stream",
          "name": "stdout",
          "text": [
            "Epoch 1/100\n",
            "38/38 [==============================] - 7s 76ms/step - loss: 0.0159\n",
            "Epoch 2/100\n",
            "38/38 [==============================] - 1s 37ms/step - loss: 0.0010\n",
            "Epoch 3/100\n",
            "38/38 [==============================] - 1s 37ms/step - loss: 8.8978e-04\n",
            "Epoch 4/100\n",
            "38/38 [==============================] - 1s 37ms/step - loss: 9.0806e-04\n",
            "Epoch 5/100\n",
            "38/38 [==============================] - 1s 37ms/step - loss: 7.6435e-04\n",
            "Epoch 6/100\n",
            "38/38 [==============================] - 1s 39ms/step - loss: 7.0549e-04\n",
            "Epoch 7/100\n",
            "38/38 [==============================] - 1s 37ms/step - loss: 6.8299e-04\n",
            "Epoch 8/100\n",
            "38/38 [==============================] - 2s 41ms/step - loss: 5.6975e-04\n",
            "Epoch 9/100\n",
            "38/38 [==============================] - 2s 39ms/step - loss: 5.7261e-04\n",
            "Epoch 10/100\n",
            "38/38 [==============================] - 2s 41ms/step - loss: 5.8717e-04\n",
            "Epoch 11/100\n",
            "38/38 [==============================] - 2s 54ms/step - loss: 5.0331e-04\n",
            "Epoch 12/100\n",
            "38/38 [==============================] - 2s 66ms/step - loss: 4.9775e-04\n",
            "Epoch 13/100\n",
            "38/38 [==============================] - 2s 39ms/step - loss: 5.7752e-04\n",
            "Epoch 14/100\n",
            "38/38 [==============================] - 1s 39ms/step - loss: 4.6846e-04\n",
            "Epoch 15/100\n",
            "38/38 [==============================] - 1s 39ms/step - loss: 4.6307e-04\n",
            "Epoch 16/100\n",
            "38/38 [==============================] - 1s 39ms/step - loss: 4.9231e-04\n",
            "Epoch 17/100\n",
            "38/38 [==============================] - 1s 38ms/step - loss: 4.9238e-04\n",
            "Epoch 18/100\n",
            "38/38 [==============================] - 1s 38ms/step - loss: 4.3512e-04\n",
            "Epoch 19/100\n",
            "38/38 [==============================] - 2s 40ms/step - loss: 3.8520e-04\n",
            "Epoch 20/100\n",
            "38/38 [==============================] - 2s 39ms/step - loss: 4.3814e-04\n",
            "Epoch 21/100\n",
            "38/38 [==============================] - 2s 40ms/step - loss: 3.5998e-04\n",
            "Epoch 22/100\n",
            "38/38 [==============================] - 2s 40ms/step - loss: 3.4741e-04\n",
            "Epoch 23/100\n",
            "38/38 [==============================] - 1s 39ms/step - loss: 3.5377e-04\n",
            "Epoch 24/100\n",
            "38/38 [==============================] - 1s 39ms/step - loss: 3.5099e-04\n",
            "Epoch 25/100\n",
            "38/38 [==============================] - 1s 39ms/step - loss: 3.7878e-04\n",
            "Epoch 26/100\n",
            "38/38 [==============================] - 2s 41ms/step - loss: 3.3255e-04\n",
            "Epoch 27/100\n",
            "38/38 [==============================] - 1s 39ms/step - loss: 3.1985e-04\n",
            "Epoch 28/100\n",
            "38/38 [==============================] - 2s 39ms/step - loss: 3.1218e-04\n",
            "Epoch 29/100\n",
            "38/38 [==============================] - 1s 39ms/step - loss: 2.9845e-04\n",
            "Epoch 30/100\n",
            "38/38 [==============================] - 2s 39ms/step - loss: 2.9919e-04\n",
            "Epoch 31/100\n",
            "38/38 [==============================] - 1s 38ms/step - loss: 3.2671e-04\n",
            "Epoch 32/100\n",
            "38/38 [==============================] - 1s 39ms/step - loss: 3.0197e-04\n",
            "Epoch 33/100\n",
            "38/38 [==============================] - 1s 38ms/step - loss: 2.9696e-04\n",
            "Epoch 34/100\n",
            "38/38 [==============================] - 1s 37ms/step - loss: 3.2214e-04\n",
            "Epoch 35/100\n",
            "38/38 [==============================] - 1s 37ms/step - loss: 2.9076e-04\n",
            "Epoch 36/100\n",
            "38/38 [==============================] - 1s 38ms/step - loss: 3.0002e-04\n",
            "Epoch 37/100\n",
            "38/38 [==============================] - 1s 38ms/step - loss: 2.6016e-04\n",
            "Epoch 38/100\n",
            "38/38 [==============================] - 1s 37ms/step - loss: 2.4846e-04\n",
            "Epoch 39/100\n",
            "38/38 [==============================] - 1s 38ms/step - loss: 2.5119e-04\n",
            "Epoch 40/100\n",
            "38/38 [==============================] - 1s 38ms/step - loss: 2.4958e-04\n",
            "Epoch 41/100\n",
            "38/38 [==============================] - 1s 38ms/step - loss: 2.5212e-04\n",
            "Epoch 42/100\n",
            "38/38 [==============================] - 1s 38ms/step - loss: 2.5017e-04\n",
            "Epoch 43/100\n",
            "38/38 [==============================] - 1s 38ms/step - loss: 2.4848e-04\n",
            "Epoch 44/100\n",
            "38/38 [==============================] - 1s 37ms/step - loss: 2.4060e-04\n",
            "Epoch 45/100\n",
            "38/38 [==============================] - 1s 37ms/step - loss: 2.2787e-04\n",
            "Epoch 46/100\n",
            "38/38 [==============================] - 1s 38ms/step - loss: 2.3156e-04\n",
            "Epoch 47/100\n",
            "38/38 [==============================] - 1s 38ms/step - loss: 2.4893e-04\n",
            "Epoch 48/100\n",
            "38/38 [==============================] - 1s 39ms/step - loss: 2.2571e-04\n",
            "Epoch 49/100\n",
            "38/38 [==============================] - 2s 40ms/step - loss: 2.2173e-04\n",
            "Epoch 50/100\n",
            "38/38 [==============================] - 2s 40ms/step - loss: 2.3480e-04\n",
            "Epoch 51/100\n",
            "38/38 [==============================] - 1s 39ms/step - loss: 2.3306e-04\n",
            "Epoch 52/100\n",
            "38/38 [==============================] - 1s 39ms/step - loss: 2.2485e-04\n",
            "Epoch 53/100\n",
            "38/38 [==============================] - 1s 39ms/step - loss: 2.1443e-04\n",
            "Epoch 54/100\n",
            "38/38 [==============================] - 2s 40ms/step - loss: 2.3290e-04\n",
            "Epoch 55/100\n",
            "38/38 [==============================] - 2s 40ms/step - loss: 2.0487e-04\n",
            "Epoch 56/100\n",
            "38/38 [==============================] - 1s 37ms/step - loss: 2.1433e-04\n",
            "Epoch 57/100\n",
            "38/38 [==============================] - 1s 38ms/step - loss: 2.3413e-04\n",
            "Epoch 58/100\n",
            "38/38 [==============================] - 1s 38ms/step - loss: 2.3247e-04\n",
            "Epoch 59/100\n",
            "38/38 [==============================] - 1s 39ms/step - loss: 2.1566e-04\n",
            "Epoch 60/100\n",
            "38/38 [==============================] - 1s 38ms/step - loss: 2.0828e-04\n",
            "Epoch 61/100\n",
            "38/38 [==============================] - 1s 37ms/step - loss: 2.1384e-04\n",
            "Epoch 62/100\n",
            "38/38 [==============================] - 1s 39ms/step - loss: 1.8917e-04\n",
            "Epoch 63/100\n",
            "38/38 [==============================] - 1s 38ms/step - loss: 1.9339e-04\n",
            "Epoch 64/100\n",
            "38/38 [==============================] - 1s 37ms/step - loss: 1.9975e-04\n",
            "Epoch 65/100\n",
            "38/38 [==============================] - 1s 38ms/step - loss: 1.9095e-04\n",
            "Epoch 66/100\n",
            "38/38 [==============================] - 1s 38ms/step - loss: 1.9191e-04\n",
            "Epoch 67/100\n",
            "38/38 [==============================] - 1s 39ms/step - loss: 2.0239e-04\n",
            "Epoch 68/100\n",
            "38/38 [==============================] - 1s 38ms/step - loss: 1.9116e-04\n",
            "Epoch 69/100\n",
            "38/38 [==============================] - 1s 38ms/step - loss: 2.0182e-04\n",
            "Epoch 70/100\n",
            "38/38 [==============================] - 1s 38ms/step - loss: 1.9758e-04\n",
            "Epoch 71/100\n",
            "38/38 [==============================] - 1s 38ms/step - loss: 1.8585e-04\n",
            "Epoch 72/100\n",
            "38/38 [==============================] - 1s 38ms/step - loss: 1.8349e-04\n",
            "Epoch 73/100\n",
            "38/38 [==============================] - 1s 39ms/step - loss: 2.0061e-04\n",
            "Epoch 74/100\n",
            "38/38 [==============================] - 1s 39ms/step - loss: 2.1460e-04\n",
            "Epoch 75/100\n",
            "38/38 [==============================] - 1s 37ms/step - loss: 1.8430e-04\n",
            "Epoch 76/100\n",
            "38/38 [==============================] - 1s 38ms/step - loss: 1.8361e-04\n",
            "Epoch 77/100\n",
            "38/38 [==============================] - 1s 38ms/step - loss: 1.7829e-04\n",
            "Epoch 78/100\n",
            "38/38 [==============================] - 1s 38ms/step - loss: 2.0066e-04\n",
            "Epoch 79/100\n",
            "38/38 [==============================] - 1s 38ms/step - loss: 1.7785e-04\n",
            "Epoch 80/100\n",
            "38/38 [==============================] - 1s 38ms/step - loss: 1.9731e-04\n",
            "Epoch 81/100\n",
            "38/38 [==============================] - 1s 38ms/step - loss: 1.9397e-04\n",
            "Epoch 82/100\n",
            "38/38 [==============================] - 1s 37ms/step - loss: 1.7103e-04\n",
            "Epoch 83/100\n",
            "38/38 [==============================] - 1s 38ms/step - loss: 1.8001e-04\n",
            "Epoch 84/100\n",
            "38/38 [==============================] - 1s 39ms/step - loss: 1.7170e-04\n",
            "Epoch 85/100\n",
            "38/38 [==============================] - 1s 38ms/step - loss: 1.9040e-04\n",
            "Epoch 86/100\n",
            "38/38 [==============================] - 1s 37ms/step - loss: 2.0788e-04\n",
            "Epoch 87/100\n",
            "38/38 [==============================] - 1s 37ms/step - loss: 1.7912e-04\n",
            "Epoch 88/100\n",
            "38/38 [==============================] - 1s 38ms/step - loss: 1.8227e-04\n",
            "Epoch 89/100\n",
            "38/38 [==============================] - 1s 38ms/step - loss: 1.8053e-04\n",
            "Epoch 90/100\n",
            "38/38 [==============================] - 1s 38ms/step - loss: 1.9522e-04\n",
            "Epoch 91/100\n",
            "38/38 [==============================] - 1s 38ms/step - loss: 1.6882e-04\n",
            "Epoch 92/100\n",
            "38/38 [==============================] - 1s 39ms/step - loss: 1.7345e-04\n",
            "Epoch 93/100\n",
            "38/38 [==============================] - 1s 39ms/step - loss: 1.7246e-04\n",
            "Epoch 94/100\n",
            "38/38 [==============================] - 1s 38ms/step - loss: 1.7754e-04\n",
            "Epoch 95/100\n",
            "38/38 [==============================] - 1s 39ms/step - loss: 1.7699e-04\n",
            "Epoch 96/100\n",
            "38/38 [==============================] - 1s 38ms/step - loss: 1.7622e-04\n",
            "Epoch 97/100\n",
            "38/38 [==============================] - 2s 40ms/step - loss: 1.7540e-04\n",
            "Epoch 98/100\n",
            "38/38 [==============================] - 1s 38ms/step - loss: 1.7359e-04\n",
            "Epoch 99/100\n",
            "38/38 [==============================] - 1s 39ms/step - loss: 1.6504e-04\n",
            "Epoch 100/100\n",
            "38/38 [==============================] - 1s 37ms/step - loss: 1.8276e-04\n"
          ]
        },
        {
          "output_type": "execute_result",
          "data": {
            "text/plain": [
              "<keras.callbacks.History at 0x7f63e005cb90>"
            ]
          },
          "metadata": {},
          "execution_count": 24
        }
      ]
    },
    {
      "cell_type": "code",
      "source": [
        "dataset_test = pd.read_csv('testset.csv')"
      ],
      "metadata": {
        "id": "OJzVwjRmPqDb"
      },
      "execution_count": 25,
      "outputs": []
    },
    {
      "cell_type": "code",
      "source": [
        "test_set = dataset_test.iloc[:,1:2].values"
      ],
      "metadata": {
        "id": "JPrrd1n-Px7o"
      },
      "execution_count": 26,
      "outputs": []
    },
    {
      "cell_type": "code",
      "source": [
        "test_set.shape"
      ],
      "metadata": {
        "id": "WQgU2aH0bHZy",
        "colab": {
          "base_uri": "https://localhost:8080/"
        },
        "outputId": "4f5db6cf-e5bf-4f4d-be61-ec9e4a7fe83f"
      },
      "execution_count": 27,
      "outputs": [
        {
          "output_type": "execute_result",
          "data": {
            "text/plain": [
              "(125, 1)"
            ]
          },
          "metadata": {},
          "execution_count": 27
        }
      ]
    },
    {
      "cell_type": "code",
      "source": [
        "dataset_total = pd.concat((dataset_train['Open'],dataset_test['Open']),axis=0)"
      ],
      "metadata": {
        "id": "jqBvI7uQa8dz"
      },
      "execution_count": 28,
      "outputs": []
    },
    {
      "cell_type": "code",
      "source": [
        "inputs = dataset_total.values\n",
        "inputs = inputs.reshape(-1,1)\n",
        "inputs_scaled=sc.transform(inputs)\n",
        "X_test = []\n",
        "for i in range(60,1384):\n",
        "  X_test.append(inputs_scaled[i-60:i,0])\n",
        "X_test = np.array(X_test)\n",
        "X_test = np.reshape(X_test,(X_test.shape[0], X_test.shape[1],1))"
      ],
      "metadata": {
        "id": "V6w4Dq01QJXk"
      },
      "execution_count": 29,
      "outputs": []
    },
    {
      "cell_type": "code",
      "source": [
        "X_test.shape"
      ],
      "metadata": {
        "id": "zup_dSFXbqed",
        "colab": {
          "base_uri": "https://localhost:8080/"
        },
        "outputId": "9fa85a60-41e9-4a28-86ce-59c1cfb519cb"
      },
      "execution_count": 30,
      "outputs": [
        {
          "output_type": "execute_result",
          "data": {
            "text/plain": [
              "(1324, 60, 1)"
            ]
          },
          "metadata": {},
          "execution_count": 30
        }
      ]
    },
    {
      "cell_type": "code",
      "source": [
        "predicted_stock_price_scaled = model.predict(X_test)\n",
        "predicted_stock_price = sc.inverse_transform(predicted_stock_price_scaled)"
      ],
      "metadata": {
        "id": "M02bWmdhRneT"
      },
      "execution_count": 31,
      "outputs": []
    },
    {
      "cell_type": "code",
      "source": [
        "plt.plot(np.arange(0,1384),inputs, color='red', label = 'Test(Real) Google stock price')\n",
        "plt.plot(np.arange(60,1384),predicted_stock_price, color='blue', label = 'Predicted Google stock price')\n",
        "plt.title('Google Stock Price Prediction')\n",
        "plt.xlabel('Time')\n",
        "plt.ylabel('Google Stock Price')\n",
        "plt.legend()\n",
        "plt.show()"
      ],
      "metadata": {
        "id": "60GZR-9ZR34C",
        "colab": {
          "base_uri": "https://localhost:8080/",
          "height": 295
        },
        "outputId": "4b2e04ae-6234-4398-a1d3-78afc61f7175"
      },
      "execution_count": 32,
      "outputs": [
        {
          "output_type": "display_data",
          "data": {
            "text/plain": [
              "<Figure size 432x288 with 1 Axes>"
            ],
            "image/png": "[encoded data removed]"
          },
          "metadata": {
            "needs_background": "light"
          }
        }
      ]
    }
  ]
}